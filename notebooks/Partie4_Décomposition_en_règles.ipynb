{
 "cells": [
  {
   "cell_type": "markdown",
   "metadata": {},
   "source": [
    "# Décomposition en règles - Partie 4"
   ]
  },
  {
   "cell_type": "code",
   "execution_count": 1,
   "metadata": {},
   "outputs": [],
   "source": [
    "# Il est nécessaire d'ajouter le chemin du projet au python path,\n",
    "# pour pouvoir utiliser les ressources mises à disposition.\n",
    "\n",
    "########## A vous de jouer\n",
    "# Modifiez le path de manière à ce qu'il corresponde à votre ordinateur.\n",
    "import sys\n",
    "sys.path.append('/Users/jms/prod/20181003_Technical_training_interpretability')"
   ]
  },
  {
   "cell_type": "markdown",
   "metadata": {},
   "source": [
    "## 1. Import du modèle et des données"
   ]
  },
  {
   "cell_type": "code",
   "execution_count": 2,
   "metadata": {},
   "outputs": [
    {
     "name": "stderr",
     "output_type": "stream",
     "text": [
      "/Users/jms/anaconda3/lib/python3.6/importlib/_bootstrap.py:219: RuntimeWarning: numpy.dtype size changed, may indicate binary incompatibility. Expected 96, got 88\n",
      "  return f(*args, **kwds)\n",
      "/Users/jms/anaconda3/lib/python3.6/importlib/_bootstrap.py:219: RuntimeWarning: numpy.dtype size changed, may indicate binary incompatibility. Expected 96, got 88\n",
      "  return f(*args, **kwds)\n",
      "/Users/jms/prod/20181003_Technical_training_interpretability/.venv/lib/python3.6/site-packages/sklearn/ensemble/weight_boosting.py:29: DeprecationWarning: numpy.core.umath_tests is an internal NumPy module and should not be imported. It will be removed in a future NumPy release.\n",
      "  from numpy.core.umath_tests import inner1d\n"
     ]
    }
   ],
   "source": [
    "import pickle\n",
    "\n",
    "with open('data_model_rf.pickle', 'rb') as handle:\n",
    "    data_model_dict = pickle.load(handle)\n",
    "\n",
    "X_train, X_test, y_train, y_test, model = data_model_dict.values()\n",
    "f_predict = lambda x: model.predict_proba(x)[:,1]"
   ]
  },
  {
   "cell_type": "code",
   "execution_count": 3,
   "metadata": {},
   "outputs": [
    {
     "data": {
      "text/plain": [
       "array([0.33058554, 0.54339778, 0.25560691, 0.54657462, 0.0544803 ,\n",
       "       0.77699009, 0.78250217, 0.31317756, 0.59730188, 0.76966065])"
      ]
     },
     "execution_count": 3,
     "metadata": {},
     "output_type": "execute_result"
    }
   ],
   "source": [
    "## Exemple : Une prédiction pour 10 échantillons aléatoires du jeu de test:\n",
    "f_predict(\n",
    "    X_test.sample(10, random_state=42)\n",
    ")"
   ]
  },
  {
   "cell_type": "markdown",
   "metadata": {},
   "source": [
    "## 2. Entraînement de skope-rules"
   ]
  },
  {
   "cell_type": "code",
   "execution_count": 4,
   "metadata": {},
   "outputs": [
    {
     "name": "stdout",
     "output_type": "stream",
     "text": [
      "CPU times: user 2.94 s, sys: 19.1 ms, total: 2.96 s\n",
      "Wall time: 2.97 s\n"
     ]
    }
   ],
   "source": [
    "%%time\n",
    "# Import skope-rules\n",
    "from skrules import SkopeRules\n",
    "\n",
    "\n",
    "skope_rules_clf = SkopeRules(feature_names=X_train.columns, random_state=42, n_estimators=50,\n",
    "                               recall_min=0.05, precision_min=0.9,\n",
    "                               max_samples=0.5,\n",
    "                               max_depth_duplication= 2, max_depth = 3)\n",
    "\n",
    "skope_rules_clf.fit(X_train, y_train)"
   ]
  },
  {
   "cell_type": "code",
   "execution_count": 5,
   "metadata": {},
   "outputs": [],
   "source": [
    "skope_rules_scoring = skope_rules_clf.score_top_rules(X_test)\n",
    "random_forest_scoring = f_predict(X_test)"
   ]
  },
  {
   "cell_type": "markdown",
   "metadata": {},
   "source": [
    "## 3. Extraction de règles"
   ]
  },
  {
   "cell_type": "code",
   "execution_count": 6,
   "metadata": {},
   "outputs": [
    {
     "name": "stdout",
     "output_type": "stream",
     "text": [
      "3 rules have been built with SkopeRules.\n",
      "\n",
      "CANAL_COM__inconnu <= 0.5 and DUREE_CONTACT > 10.149999618530273\n",
      "\n",
      "DUREE_CONTACT > 13.25\n",
      "\n",
      "DUREE_CONTACT <= 10.149999618530273 and DUREE_CONTACT > 1.899999976158142 and RESULTAT_PRECEDENT__succès > 0.5\n",
      "\n"
     ]
    }
   ],
   "source": [
    "# Get number of rules created\n",
    "print(str(len(skope_rules_clf.rules_)) + ' rules have been built with ' +\n",
    "      'SkopeRules.\\n')\n",
    "\n",
    "# Print the rules\n",
    "\n",
    "for i_rule, rule in enumerate(skope_rules_clf.rules_[:10]):\n",
    "    print(rule[0]+'\\n')"
   ]
  },
  {
   "cell_type": "code",
   "execution_count": 7,
   "metadata": {},
   "outputs": [
    {
     "name": "stdout",
     "output_type": "stream",
     "text": [
      "Precision = 0.96 means that 96% of rows described by the rule belongs to class 1.\n",
      "Recall = 0.12 means that the rows with class 1 identified by the rule are 12% of the total rows with class 1.\n",
      "\n",
      "Rule 1:\n"
     ]
    },
    {
     "data": {
      "text/html": [
       "<div>\n",
       "<style scoped>\n",
       "    .dataframe tbody tr th:only-of-type {\n",
       "        vertical-align: middle;\n",
       "    }\n",
       "\n",
       "    .dataframe tbody tr th {\n",
       "        vertical-align: top;\n",
       "    }\n",
       "\n",
       "    .dataframe thead th {\n",
       "        text-align: right;\n",
       "    }\n",
       "</style>\n",
       "<table border=\"1\" class=\"dataframe\">\n",
       "  <thead>\n",
       "    <tr style=\"text-align: right;\">\n",
       "      <th></th>\n",
       "      <th>precision</th>\n",
       "      <th>recall</th>\n",
       "    </tr>\n",
       "  </thead>\n",
       "  <tbody>\n",
       "    <tr>\n",
       "      <th>train_set</th>\n",
       "      <td>0.888446</td>\n",
       "      <td>0.291503</td>\n",
       "    </tr>\n",
       "    <tr>\n",
       "      <th>test_set</th>\n",
       "      <td>0.860759</td>\n",
       "      <td>0.269841</td>\n",
       "    </tr>\n",
       "  </tbody>\n",
       "</table>\n",
       "</div>"
      ],
      "text/plain": [
       "           precision    recall\n",
       "train_set   0.888446  0.291503\n",
       "test_set    0.860759  0.269841"
      ]
     },
     "metadata": {},
     "output_type": "display_data"
    },
    {
     "name": "stdout",
     "output_type": "stream",
     "text": [
      "Rule 2:\n"
     ]
    },
    {
     "data": {
      "text/html": [
       "<div>\n",
       "<style scoped>\n",
       "    .dataframe tbody tr th:only-of-type {\n",
       "        vertical-align: middle;\n",
       "    }\n",
       "\n",
       "    .dataframe tbody tr th {\n",
       "        vertical-align: top;\n",
       "    }\n",
       "\n",
       "    .dataframe thead th {\n",
       "        text-align: right;\n",
       "    }\n",
       "</style>\n",
       "<table border=\"1\" class=\"dataframe\">\n",
       "  <thead>\n",
       "    <tr style=\"text-align: right;\">\n",
       "      <th></th>\n",
       "      <th>precision</th>\n",
       "      <th>recall</th>\n",
       "    </tr>\n",
       "  </thead>\n",
       "  <tbody>\n",
       "    <tr>\n",
       "      <th>train_set</th>\n",
       "      <td>0.897059</td>\n",
       "      <td>0.239216</td>\n",
       "    </tr>\n",
       "    <tr>\n",
       "      <th>test_set</th>\n",
       "      <td>0.920000</td>\n",
       "      <td>0.212963</td>\n",
       "    </tr>\n",
       "  </tbody>\n",
       "</table>\n",
       "</div>"
      ],
      "text/plain": [
       "           precision    recall\n",
       "train_set   0.897059  0.239216\n",
       "test_set    0.920000  0.212963"
      ]
     },
     "metadata": {},
     "output_type": "display_data"
    },
    {
     "name": "stdout",
     "output_type": "stream",
     "text": [
      "Rule 3:\n"
     ]
    },
    {
     "data": {
      "text/html": [
       "<div>\n",
       "<style scoped>\n",
       "    .dataframe tbody tr th:only-of-type {\n",
       "        vertical-align: middle;\n",
       "    }\n",
       "\n",
       "    .dataframe tbody tr th {\n",
       "        vertical-align: top;\n",
       "    }\n",
       "\n",
       "    .dataframe thead th {\n",
       "        text-align: right;\n",
       "    }\n",
       "</style>\n",
       "<table border=\"1\" class=\"dataframe\">\n",
       "  <thead>\n",
       "    <tr style=\"text-align: right;\">\n",
       "      <th></th>\n",
       "      <th>precision</th>\n",
       "      <th>recall</th>\n",
       "    </tr>\n",
       "  </thead>\n",
       "  <tbody>\n",
       "    <tr>\n",
       "      <th>train_set</th>\n",
       "      <td>0.926829</td>\n",
       "      <td>0.149020</td>\n",
       "    </tr>\n",
       "    <tr>\n",
       "      <th>test_set</th>\n",
       "      <td>0.875969</td>\n",
       "      <td>0.149471</td>\n",
       "    </tr>\n",
       "  </tbody>\n",
       "</table>\n",
       "</div>"
      ],
      "text/plain": [
       "           precision    recall\n",
       "train_set   0.926829  0.149020\n",
       "test_set    0.875969  0.149471"
      ]
     },
     "metadata": {},
     "output_type": "display_data"
    }
   ],
   "source": [
    "import numpy as np\n",
    "import pandas as pd\n",
    "def compute_y_pred_from_query(X, rule):\n",
    "    score = np.zeros(X.shape[0])\n",
    "    X = X.reset_index(drop=True)\n",
    "    score[list(X.query(rule).index)] = 1\n",
    "    return(score)\n",
    "\n",
    "def compute_performances_from_y_pred(y_true, y_pred, index_name='default_index'):\n",
    "    df = pd.DataFrame(data=\n",
    "        {\n",
    "            'precision':[sum(y_true * y_pred)/sum(y_pred)],\n",
    "            'recall':[sum(y_true * y_pred)/sum(y_true)]\n",
    "        },\n",
    "        index=[index_name],\n",
    "        columns=['precision', 'recall']\n",
    "    )\n",
    "    return(df)\n",
    "\n",
    "def compute_train_test_query_performances(X_train, y_train, X_test, y_test, rule):\n",
    "    \n",
    "    y_train_pred = compute_y_pred_from_query(X_train, rule)\n",
    "    y_test_pred = compute_y_pred_from_query(X_test, rule)\n",
    "    \n",
    "    performances = None\n",
    "    performances = pd.concat([\n",
    "        performances,\n",
    "        compute_performances_from_y_pred(y_train, y_train_pred, 'train_set')],\n",
    "        axis=0)\n",
    "    performances = pd.concat([\n",
    "        performances,\n",
    "        compute_performances_from_y_pred(y_test, y_test_pred, 'test_set')],\n",
    "        axis=0)\n",
    "            \n",
    "    return(performances)\n",
    "\n",
    "\n",
    "print('Precision = 0.96 means that 96% of rows described by the rule belongs to class 1.')\n",
    "print('Recall = 0.12 means that the rows with class 1 identified by the rule are 12% of the total rows with class 1.\\n')\n",
    "\n",
    "for i in range(3):\n",
    "    print('Rule '+str(i+1)+':')\n",
    "    display(compute_train_test_query_performances(X_train, y_train,\n",
    "                                                  X_test, y_test,\n",
    "                                                  skope_rules_clf.rules_[i][0])\n",
    "           )"
   ]
  },
  {
   "cell_type": "markdown",
   "metadata": {},
   "source": [
    "## 4. Analyse de performances"
   ]
  },
  {
   "cell_type": "code",
   "execution_count": 8,
   "metadata": {},
   "outputs": [
    {
     "data": {
      "image/png": "[encoded data removed]",
      "text/plain": [
       "<Figure size 864x360 with 2 Axes>"
      ]
     },
     "metadata": {},
     "output_type": "display_data"
    }
   ],
   "source": [
    "%matplotlib inline\n",
    "import matplotlib.pyplot as plt\n",
    "from sklearn.metrics import roc_curve, precision_recall_curve\n",
    "from matplotlib import cm\n",
    "\n",
    "def plot_scores(y_true, scores_with_line=[], scores_with_points=[],\n",
    "                        labels_with_line=['Random Forest'],\n",
    "                        labels_with_points=['skope-rules']):\n",
    "    gradient = np.linspace(0, 1, 10)\n",
    "    color_list = [ cm.tab10(x) for x in gradient ]\n",
    "\n",
    "    fig, axes = plt.subplots(1, 2, figsize=(12, 5),\n",
    "                         sharex=True, sharey=True)\n",
    "    ax = axes[0]\n",
    "    n_line = 0\n",
    "    for i_score, score in enumerate(scores_with_line):\n",
    "        n_line = n_line + 1\n",
    "        fpr, tpr, _ = roc_curve(y_true, score)\n",
    "        ax.plot(fpr, tpr, linestyle='-.', c=color_list[i_score], lw=1, label=labels_with_line[i_score])\n",
    "    for i_score, score in enumerate(scores_with_points):\n",
    "        fpr, tpr, _ = roc_curve(y_true, score)\n",
    "        ax.scatter(fpr[:-1], tpr[:-1], c=color_list[n_line + i_score], s=10, label=labels_with_points[i_score])\n",
    "    ax.set_title(\"ROC\", fontsize=20)\n",
    "    ax.set_xlabel('False Positive Rate', fontsize=18)\n",
    "    ax.set_ylabel('True Positive Rate (Recall)', fontsize=18)\n",
    "    ax.legend(loc='lower center', fontsize=8)\n",
    "\n",
    "    ax = axes[1]\n",
    "    n_line = 0\n",
    "    for i_score, score in enumerate(scores_with_line):\n",
    "        n_line = n_line + 1\n",
    "        precision, recall, _ = precision_recall_curve(y_true, score)\n",
    "        ax.step(recall, precision, linestyle='-.', c=color_list[i_score], lw=1, where='post', label=labels_with_line[i_score])\n",
    "    for i_score, score in enumerate(scores_with_points):\n",
    "        precision, recall, _ = precision_recall_curve(y_true, score)\n",
    "        ax.scatter(recall, precision, c=color_list[n_line + i_score], s=10, label=labels_with_points[i_score])\n",
    "    ax.set_title(\"Precision-Recall\", fontsize=20)\n",
    "    ax.set_xlabel('Recall (True Positive Rate)', fontsize=18)\n",
    "    ax.set_ylabel('Precision', fontsize=18)\n",
    "    ax.legend(loc='lower center', fontsize=8)\n",
    "    plt.show()\n",
    "    \n",
    "plot_scores(y_test,\n",
    "                    scores_with_line=[random_forest_scoring],\n",
    "                    scores_with_points=[skope_rules_scoring]\n",
    "                   )"
   ]
  },
  {
   "cell_type": "code",
   "execution_count": 9,
   "metadata": {},
   "outputs": [
    {
     "name": "stdout",
     "output_type": "stream",
     "text": [
      "The performances reached with 3 discovered rules are the following:\n"
     ]
    },
    {
     "data": {
      "text/html": [
       "<div>\n",
       "<style scoped>\n",
       "    .dataframe tbody tr th:only-of-type {\n",
       "        vertical-align: middle;\n",
       "    }\n",
       "\n",
       "    .dataframe tbody tr th {\n",
       "        vertical-align: top;\n",
       "    }\n",
       "\n",
       "    .dataframe thead th {\n",
       "        text-align: right;\n",
       "    }\n",
       "</style>\n",
       "<table border=\"1\" class=\"dataframe\">\n",
       "  <thead>\n",
       "    <tr style=\"text-align: right;\">\n",
       "      <th></th>\n",
       "      <th>precision</th>\n",
       "      <th>recall</th>\n",
       "    </tr>\n",
       "  </thead>\n",
       "  <tbody>\n",
       "    <tr>\n",
       "      <th>test_set</th>\n",
       "      <td>0.873134</td>\n",
       "      <td>0.464286</td>\n",
       "    </tr>\n",
       "  </tbody>\n",
       "</table>\n",
       "</div>"
      ],
      "text/plain": [
       "          precision    recall\n",
       "test_set   0.873134  0.464286"
      ]
     },
     "execution_count": 9,
     "metadata": {},
     "output_type": "execute_result"
    }
   ],
   "source": [
    "n_rule_chosen = 3\n",
    "y_pred = skope_rules_clf.predict_top_rules(X_test, n_rule_chosen)\n",
    "\n",
    "print('The performances reached with '+str(n_rule_chosen)+' discovered rules are the following:')\n",
    "compute_performances_from_y_pred(y_test, y_pred, 'test_set')"
   ]
  },
  {
   "cell_type": "code",
   "execution_count": null,
   "metadata": {},
   "outputs": [],
   "source": []
  }
 ],
 "metadata": {
  "kernelspec": {
   "display_name": "Python 3",
   "language": "python",
   "name": "python3"
  },
  "language_info": {
   "codemirror_mode": {
    "name": "ipython",
    "version": 3
   },
   "file_extension": ".py",
   "mimetype": "text/x-python",
   "name": "python",
   "nbconvert_exporter": "python",
   "pygments_lexer": "ipython3",
   "version": "3.6.4"
  }
 },
 "nbformat": 4,
 "nbformat_minor": 2
}
